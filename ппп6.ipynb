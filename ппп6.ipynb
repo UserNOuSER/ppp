{
 "cells": [
  {
   "cell_type": "markdown",
   "id": "d4a83895-81db-4524-b3f5-d5e6f9580055",
   "metadata": {},
   "source": [
    "# Лабораторная работа 6. Решение уравнений и систем уравнений\n",
    "### Вариант 12"
   ]
  },
  {
   "cell_type": "code",
   "execution_count": 31,
   "id": "adaeb15d-2366-4b6b-b102-4098a382924b",
   "metadata": {},
   "outputs": [],
   "source": [
    "import numpy as np\n",
    "import scipy as sp"
   ]
  },
  {
   "cell_type": "markdown",
   "id": "30aa8c80-e4db-4c9d-87e4-467876cbeaf1",
   "metadata": {
    "editable": true,
    "slideshow": {
     "slide_type": ""
    },
    "tags": []
   },
   "source": [
    "## Задание 1\n",
    "Задайте две матрицы 3-го порядка с помощью функции rand. Объедините их в новую матрицу двумя способами: сначала по горизонтали, а потом по вертикали."
   ]
  },
  {
   "cell_type": "code",
   "execution_count": 2,
   "id": "5b14e4bc-710c-415b-97d1-0465ac91419c",
   "metadata": {},
   "outputs": [
    {
     "data": {
      "text/plain": [
       "array([[0.10869185, 0.4264938 , 0.0713964 ],\n",
       "       [0.30144465, 0.31939123, 0.61311053],\n",
       "       [0.2572936 , 0.38107985, 0.80576704]])"
      ]
     },
     "metadata": {},
     "output_type": "display_data"
    },
    {
     "data": {
      "text/plain": [
       "array([[0.89320456, 0.10064432, 0.75181002],\n",
       "       [0.7449746 , 0.18476436, 0.38756476],\n",
       "       [0.34233529, 0.4255129 , 0.9569885 ]])"
      ]
     },
     "metadata": {},
     "output_type": "display_data"
    },
    {
     "data": {
      "text/plain": [
       "array([[0.10869185, 0.4264938 , 0.0713964 , 0.89320456, 0.10064432,\n",
       "        0.75181002],\n",
       "       [0.30144465, 0.31939123, 0.61311053, 0.7449746 , 0.18476436,\n",
       "        0.38756476],\n",
       "       [0.2572936 , 0.38107985, 0.80576704, 0.34233529, 0.4255129 ,\n",
       "        0.9569885 ]])"
      ]
     },
     "metadata": {},
     "output_type": "display_data"
    },
    {
     "data": {
      "text/plain": [
       "array([[0.10869185, 0.4264938 , 0.0713964 ],\n",
       "       [0.30144465, 0.31939123, 0.61311053],\n",
       "       [0.2572936 , 0.38107985, 0.80576704],\n",
       "       [0.89320456, 0.10064432, 0.75181002],\n",
       "       [0.7449746 , 0.18476436, 0.38756476],\n",
       "       [0.34233529, 0.4255129 , 0.9569885 ]])"
      ]
     },
     "metadata": {},
     "output_type": "display_data"
    }
   ],
   "source": [
    "arr3rd_1 = np.random.rand(3,3)\n",
    "arr3rd_2 = np.random.rand(3,3)\n",
    "display(arr3rd_1)\n",
    "display(arr3rd_2)\n",
    "display(np.hstack((arr3rd_1, arr3rd_2))) # Сложение по горизонтали\n",
    "display(np.vstack((arr3rd_1, arr3rd_2))) # Сложение по вертикали"
   ]
  },
  {
   "cell_type": "markdown",
   "id": "87cd734a-8cfd-47c5-886d-b991ad97489d",
   "metadata": {},
   "source": [
    "## Задание 2\n",
    "Задайте квадратную матрицу 5-го порядка с помощью функции rand. Удалите две первые строки в этой матрице, а затем последний столбец."
   ]
  },
  {
   "cell_type": "code",
   "execution_count": 3,
   "id": "02c96e85-056c-4771-a70b-1c7af19149cd",
   "metadata": {},
   "outputs": [
    {
     "data": {
      "text/plain": [
       "array([[0.81465357, 0.90250387, 0.17983784, 0.92440378, 0.10893318],\n",
       "       [0.93973953, 0.09210279, 0.95458033, 0.58853173, 0.33806189],\n",
       "       [0.94389307, 0.45271151, 0.98993325, 0.42229484, 0.94920933],\n",
       "       [0.48750754, 0.67801595, 0.20924449, 0.29003637, 0.77235805],\n",
       "       [0.57279162, 0.65253881, 0.44455897, 0.36000904, 0.88155505]])"
      ]
     },
     "metadata": {},
     "output_type": "display_data"
    },
    {
     "data": {
      "text/plain": [
       "array([[0.94389307, 0.45271151, 0.98993325, 0.42229484],\n",
       "       [0.48750754, 0.67801595, 0.20924449, 0.29003637],\n",
       "       [0.57279162, 0.65253881, 0.44455897, 0.36000904]])"
      ]
     },
     "metadata": {},
     "output_type": "display_data"
    }
   ],
   "source": [
    "arr_5rd = np.random.rand(5,5)\n",
    "display(arr_5rd)\n",
    "arr_5rd = np.delete(arr_5rd, 0, 0)\n",
    "arr_5rd = np.delete(arr_5rd, 0, 0)\n",
    "arr_5rd = np.delete(arr_5rd, -1, 1)\n",
    "display(arr_5rd)"
   ]
  },
  {
   "cell_type": "markdown",
   "id": "457e5bf1-86b6-40a4-8762-f8564bec101b",
   "metadata": {},
   "source": [
    "## Задание 3\n",
    "Выделите из квадратной матрицы 3-го порядка главную диагональ, побочную диагональ, (+1)-ю диагональ – на 1-н уровень выше главной, ( -1)-ю диагональ – на 1-н уровень ниже главной."
   ]
  },
  {
   "cell_type": "code",
   "execution_count": 6,
   "id": "354afa89-091b-4787-93ba-11d630db3e7d",
   "metadata": {},
   "outputs": [
    {
     "data": {
      "text/plain": [
       "array([[0.83673341, 0.20777978, 0.77308078],\n",
       "       [0.4303527 , 0.92772175, 0.83452665],\n",
       "       [0.54137632, 0.53813797, 0.36011185]])"
      ]
     },
     "metadata": {},
     "output_type": "display_data"
    },
    {
     "data": {
      "text/plain": [
       "array([0.83673341, 0.92772175, 0.36011185])"
      ]
     },
     "metadata": {},
     "output_type": "display_data"
    },
    {
     "data": {
      "text/plain": [
       "array([0.77308078, 0.92772175, 0.54137632])"
      ]
     },
     "metadata": {},
     "output_type": "display_data"
    },
    {
     "data": {
      "text/plain": [
       "array([0.20777978, 0.83452665])"
      ]
     },
     "metadata": {},
     "output_type": "display_data"
    },
    {
     "data": {
      "text/plain": [
       "array([0.4303527 , 0.53813797])"
      ]
     },
     "metadata": {},
     "output_type": "display_data"
    }
   ],
   "source": [
    "arr3rd = np.random.rand(3,3)\n",
    "display(arr3rd)\n",
    "display(np.diag(arr3rd))\n",
    "display(np.diag(np.fliplr(arr3rd)))\n",
    "display(np.diag(arr3rd, k=1))\n",
    "display(np.diag(arr3rd, k=-1))"
   ]
  },
  {
   "cell_type": "markdown",
   "id": "c5165a58-83b9-46a5-8f27-a96a5aca2aaf",
   "metadata": {},
   "source": [
    "## Задание 4\n",
    "Создайте матрицу 8-го порядка из 1 и 0 в шахматном порядке."
   ]
  },
  {
   "cell_type": "code",
   "execution_count": 9,
   "id": "72315bb6-73d2-4a05-866c-6083942d37b7",
   "metadata": {},
   "outputs": [
    {
     "data": {
      "text/plain": [
       "array([[1., 0., 1., 0., 1., 0., 1., 0.],\n",
       "       [0., 1., 0., 1., 0., 1., 0., 1.],\n",
       "       [1., 0., 1., 0., 1., 0., 1., 0.],\n",
       "       [0., 1., 0., 1., 0., 1., 0., 1.],\n",
       "       [1., 0., 1., 0., 1., 0., 1., 0.],\n",
       "       [0., 1., 0., 1., 0., 1., 0., 1.],\n",
       "       [1., 0., 1., 0., 1., 0., 1., 0.],\n",
       "       [0., 1., 0., 1., 0., 1., 0., 1.]])"
      ]
     },
     "metadata": {},
     "output_type": "display_data"
    }
   ],
   "source": [
    "arr8rd = np.zeros((8,8))\n",
    "for i in range(8):\n",
    "    for j in range(8):\n",
    "        if (i+j)%2 == 0:\n",
    "            arr8rd[i][j] = 1\n",
    "        else:\n",
    "            arr8rd[i][j] = 0\n",
    "display(arr8rd)"
   ]
  },
  {
   "cell_type": "markdown",
   "id": "ea8f6d95-7025-40ce-a981-61c31b2cb765",
   "metadata": {},
   "source": [
    "## Задание 5\n",
    " Выполните преобразования матрицы, используя встроенные функции и/или операторы цикла while или for (варианты см. ниже).\\\n",
    " Вариант 6. Создайте матрицу 3-го порядка, заполненную целыми случайными числами. Измените матрицу следующим образом: а) Преобразуйте матрицу в вектор-столбец. Обнулите все элементы, которые имеют нечетные значения. б) Обнулите все элементы, которые имеют четные значения. Преобразуйте матрицу в вектор-строку."
   ]
  },
  {
   "cell_type": "code",
   "execution_count": 24,
   "id": "c04be8a3-e07d-47b6-8f39-f8ad7170f182",
   "metadata": {},
   "outputs": [
    {
     "data": {
      "text/plain": [
       "array([[88, 25, 25],\n",
       "       [99, 15, 78],\n",
       "       [10, 13,  7]], dtype=int32)"
      ]
     },
     "metadata": {},
     "output_type": "display_data"
    },
    {
     "data": {
      "text/plain": [
       "array([88,  0,  0,  0,  0, 78, 10,  0,  0])"
      ]
     },
     "metadata": {},
     "output_type": "display_data"
    },
    {
     "data": {
      "text/plain": [
       "array([ 0, 25, 25, 99, 15,  0,  0, 13,  7])"
      ]
     },
     "metadata": {},
     "output_type": "display_data"
    }
   ],
   "source": [
    "arr3rd = np.random.randint(0, 100, (3, 3))\n",
    "display(arr3rd)\n",
    "matrix_a = np.array([ arr3rd[i][j] if arr3rd[i][j] % 2 == 0 else 0 for i in range(3) for j in range(3)])\n",
    "display(matrix_a.transpose())\n",
    "matrix_b = np.array([ arr3rd[i][j] if arr3rd[i][j] % 2 == 1 else 0 for i in range(3) for j in range(3)])\n",
    "display(matrix_b)"
   ]
  },
  {
   "attachments": {
    "1ce0166d-5252-43b9-93f9-c88406993f11.png": {
     "image/png": "[encoded data removed]"
    }
   },
   "cell_type": "markdown",
   "id": "7bc986ec-dd1b-4925-99a9-8e35c750d44b",
   "metadata": {},
   "source": [
    "## Задание 6\n",
    "Выполните решение СЛАУ с помощью np.linalg.solve(a, b) (согласно варианту). Выполните проверку решения.\\\n",
    "![image.png](attachment:1ce0166d-5252-43b9-93f9-c88406993f11.png)"
   ]
  },
  {
   "cell_type": "code",
   "execution_count": 28,
   "id": "161360b9-1c98-4970-9910-d57a0d99faa6",
   "metadata": {},
   "outputs": [
    {
     "data": {
      "text/plain": [
       "array([ -3.81909128, -13.09947713,  32.79828075])"
      ]
     },
     "metadata": {},
     "output_type": "display_data"
    },
    {
     "data": {
      "text/plain": [
       "True"
      ]
     },
     "execution_count": 28,
     "metadata": {},
     "output_type": "execute_result"
    }
   ],
   "source": [
    "a = np.array([[45, 3.5, 7.4], \n",
    "              [3.1, 6, 2.3],\n",
    "              [0.8, 7.4, 5]])\n",
    "b = np.array([25, -15, 64])\n",
    "x = np.linalg.solve(a,b)\n",
    "display(x)\n",
    "check = np.allclose(np.dot(a, x), b) # Проверка\n",
    "check"
   ]
  },
  {
   "cell_type": "markdown",
   "id": "555321a3-6597-4db8-8d47-e2ec56340abc",
   "metadata": {},
   "source": [
    "## Задание 7\n",
    "Выполните решение СЛАУ матричным методом. Выполните проверку решения."
   ]
  },
  {
   "cell_type": "code",
   "execution_count": 30,
   "id": "add5a23a-5645-4359-99f4-f4387571f715",
   "metadata": {},
   "outputs": [
    {
     "data": {
      "text/plain": [
       "array([ -3.81909128, -13.09947713,  32.79828075])"
      ]
     },
     "metadata": {},
     "output_type": "display_data"
    },
    {
     "data": {
      "text/plain": [
       "True"
      ]
     },
     "execution_count": 30,
     "metadata": {},
     "output_type": "execute_result"
    }
   ],
   "source": [
    "x = np.dot(np.linalg.inv(a), b)\n",
    "display(x)\n",
    "check = np.allclose(np.dot(a, x), b) # Проверка\n",
    "check"
   ]
  },
  {
   "cell_type": "markdown",
   "id": "dfeefb91-916f-45a5-bf9c-b7b6682ba2ab",
   "metadata": {},
   "source": [
    "## Задание 8\n",
    "Результаты абсолютно одинаковые, оба метода сработали без проблем."
   ]
  },
  {
   "attachments": {
    "4ab11dd3-7469-4d0e-9d98-01f5ddb92b44.png": {
     "image/png": "[encoded data removed]"
    }
   },
   "cell_type": "markdown",
   "id": "bd739a48-7ef9-49c3-a859-341e860010f2",
   "metadata": {},
   "source": [
    "## Задание 9\n",
    "Решите нелинейное уравнение g(x) = 0 (по вариантам).\\\n",
    "![image.png](attachment:4ab11dd3-7469-4d0e-9d98-01f5ddb92b44.png)"
   ]
  },
  {
   "cell_type": "code",
   "execution_count": 39,
   "id": "e5ee57b6-382a-4e9e-b47d-536224fd5274",
   "metadata": {},
   "outputs": [
    {
     "name": "stdout",
     "output_type": "stream",
     "text": [
      "Все корни уравнения:\n",
      "x = -4.000000+0.000000j\n",
      "x = -1.000000+2.000000j\n",
      "x = -1.000000-2.000000j\n",
      "x = 1.000000+0.000000j\n"
     ]
    }
   ],
   "source": [
    "coeffs = [1, 5, 7, 7, -20]\n",
    "\n",
    "all_roots = np.roots(coeffs)\n",
    "\n",
    "print(\"Все корни уравнения:\")\n",
    "for root in all_roots:\n",
    "    print(f\"x = {root:.6f}\")  # Комплексные корни (если есть)"
   ]
  },
  {
   "attachments": {
    "bc28390a-13d7-4adb-bd2a-b70e190b0653.png": {
     "image/png": "[encoded data removed]"
    }
   },
   "cell_type": "markdown",
   "id": "fdc7cb83-31ba-4e09-afad-c38674fdc235",
   "metadata": {},
   "source": [
    "## Задание 10\n",
    "Решите систему нелинейных уравнений (по вариантам) с помощью функций root() и fsolve().\\\n",
    "![image.png](attachment:bc28390a-13d7-4adb-bd2a-b70e190b0653.png)"
   ]
  },
  {
   "cell_type": "code",
   "execution_count": 46,
   "id": "d85903c2-7c2d-4754-bcf8-f6ac6caab6bc",
   "metadata": {},
   "outputs": [
    {
     "name": "stdout",
     "output_type": "stream",
     "text": [
      "Решение (root):\n",
      "x = 3.964229, y = -0.051034\n",
      "\n",
      "Решение (fsolve):\n",
      "x = 3.964229, y = -0.051034\n"
     ]
    }
   ],
   "source": [
    "def equations(vars):\n",
    "    x, y = vars\n",
    "    f1 = np.sqrt(x) * np.cos(y) - 5*x*y - 3\n",
    "    f2 = 5*y / (x**2 + y**2 + 1) + x - y - 4\n",
    "    return [f1, f2]\n",
    "\n",
    "initial_guess = [1, 1]\n",
    "\n",
    "sol_root = sp.optimize.root(equations, initial_guess, method='lm')  \n",
    "\n",
    "print(\"Решение (root):\")\n",
    "print(f\"x = {sol_root.x[0]:.6f}, y = {sol_root.x[1]:.6f}\")\n",
    "\n",
    "sol_fsolve = sp.optimize.fsolve(equations, initial_guess)\n",
    "\n",
    "print(\"\\nРешение (fsolve):\")\n",
    "print(f\"x = {sol_fsolve[0]:.6f}, y = {sol_fsolve[1]:.6f}\")"
   ]
  },
  {
   "cell_type": "markdown",
   "id": "27efdd94-ac3b-415e-8e45-9736b223304c",
   "metadata": {},
   "source": [
    "## Вывод:\n",
    "#### В ходе выполнения лабораторной работы были успешно выполнены все поставленные задания, связанные с матричными операциями, решением систем линейных и нелинейных уравнений, а также использованием библиотек NumPy и SciPy "
   ]
  }
 ],
 "metadata": {
  "kernelspec": {
   "display_name": "Python 3 (ipykernel)",
   "language": "python",
   "name": "python3"
  },
  "language_info": {
   "codemirror_mode": {
    "name": "ipython",
    "version": 3
   },
   "file_extension": ".py",
   "mimetype": "text/x-python",
   "name": "python",
   "nbconvert_exporter": "python",
   "pygments_lexer": "ipython3",
   "version": "3.12.7"
  }
 },
 "nbformat": 4,
 "nbformat_minor": 5
}
