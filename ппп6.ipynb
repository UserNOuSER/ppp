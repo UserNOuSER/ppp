{
 "cells": [
  {
   "cell_type": "code",
   "execution_count": 2,
   "id": "adaeb15d-2366-4b6b-b102-4098a382924b",
   "metadata": {},
   "outputs": [],
   "source": [
    "import numpy as np"
   ]
  },
  {
   "cell_type": "markdown",
   "id": "30aa8c80-e4db-4c9d-87e4-467876cbeaf1",
   "metadata": {
    "editable": true,
    "slideshow": {
     "slide_type": ""
    },
    "tags": []
   },
   "source": [
    "## Задание 1\n",
    "Задайте две матрицы 3-го порядка с помощью функции rand. Объедините их в новую матрицу двумя способами: сначала по горизонтали, а потом по вертикали."
   ]
  },
  {
   "cell_type": "code",
   "execution_count": 6,
   "id": "5b14e4bc-710c-415b-97d1-0465ac91419c",
   "metadata": {},
   "outputs": [
    {
     "data": {
      "text/plain": [
       "array([[0.8873721 , 0.25421657, 0.20893631],\n",
       "       [0.71841194, 0.18840024, 0.85401911],\n",
       "       [0.95484469, 0.42268854, 0.56116196]])"
      ]
     },
     "metadata": {},
     "output_type": "display_data"
    },
    {
     "data": {
      "text/plain": [
       "array([[0.65343899, 0.65167688, 0.72858897],\n",
       "       [0.57485392, 0.06290043, 0.74535692],\n",
       "       [0.50439314, 0.4711157 , 0.70120944]])"
      ]
     },
     "metadata": {},
     "output_type": "display_data"
    },
    {
     "data": {
      "text/plain": [
       "array([[0.8873721 , 0.25421657, 0.20893631, 0.65343899, 0.65167688,\n",
       "        0.72858897],\n",
       "       [0.71841194, 0.18840024, 0.85401911, 0.57485392, 0.06290043,\n",
       "        0.74535692],\n",
       "       [0.95484469, 0.42268854, 0.56116196, 0.50439314, 0.4711157 ,\n",
       "        0.70120944]])"
      ]
     },
     "metadata": {},
     "output_type": "display_data"
    },
    {
     "data": {
      "text/plain": [
       "array([[0.8873721 , 0.25421657, 0.20893631],\n",
       "       [0.71841194, 0.18840024, 0.85401911],\n",
       "       [0.95484469, 0.42268854, 0.56116196],\n",
       "       [0.65343899, 0.65167688, 0.72858897],\n",
       "       [0.57485392, 0.06290043, 0.74535692],\n",
       "       [0.50439314, 0.4711157 , 0.70120944]])"
      ]
     },
     "metadata": {},
     "output_type": "display_data"
    }
   ],
   "source": [
    "arr3rd_1 = np.random.rand(3,3)\n",
    "arr3rd_2 = np.random.rand(3,3)\n",
    "display(arr3rd_1)\n",
    "display(arr3rd_2)\n",
    "display(np.hstack((arr3rd_1, arr3rd_2))) # Сложение по горизонтали\n",
    "display(np.vstack((arr3rd_1, arr3rd_2))) # Сложение по вертикали"
   ]
  },
  {
   "cell_type": "markdown",
   "id": "87cd734a-8cfd-47c5-886d-b991ad97489d",
   "metadata": {},
   "source": [
    "## Задание 2\n",
    "Задайте квадратную матрицу 5-го порядка с помощью функции rand. Удалите две первые строки в этой матрице, а затем последний столбец."
   ]
  },
  {
   "cell_type": "code",
   "execution_count": 18,
   "id": "02c96e85-056c-4771-a70b-1c7af19149cd",
   "metadata": {},
   "outputs": [
    {
     "data": {
      "text/plain": [
       "array([[0.33933326, 0.57558389, 0.8210084 , 0.39337189, 0.92589886],\n",
       "       [0.87769983, 0.65148685, 0.40518778, 0.05448731, 0.49540131],\n",
       "       [0.5230518 , 0.06158648, 0.4608074 , 0.73868422, 0.53766399],\n",
       "       [0.00210432, 0.93710972, 0.36358634, 0.7674101 , 0.17969241],\n",
       "       [0.00617346, 0.58157168, 0.66810346, 0.54136389, 0.99722518]])"
      ]
     },
     "metadata": {},
     "output_type": "display_data"
    },
    {
     "data": {
      "text/plain": [
       "array([[0.5230518 , 0.06158648, 0.4608074 , 0.73868422],\n",
       "       [0.00210432, 0.93710972, 0.36358634, 0.7674101 ],\n",
       "       [0.00617346, 0.58157168, 0.66810346, 0.54136389]])"
      ]
     },
     "metadata": {},
     "output_type": "display_data"
    }
   ],
   "source": [
    "arr_5rd = np.random.rand(5,5)\n",
    "display(arr_5rd)\n",
    "arr_5rd = np.delete(arr_5rd, 0, 0)\n",
    "arr_5rd = np.delete(arr_5rd, 0, 0)\n",
    "arr_5rd = np.delete(arr_5rd, -1, 1)\n",
    "display(arr_5rd)"
   ]
  },
  {
   "cell_type": "markdown",
   "id": "457e5bf1-86b6-40a4-8762-f8564bec101b",
   "metadata": {},
   "source": [
    "## Задание 3\n",
    "Выделите из квадратной матрицы 3-го порядка главную диагональ, побочную диагональ, (+1)-ю диагональ – на 1-н уровень выше главной, ( -1)-ю диагональ – на 1-н уровень ниже главной."
   ]
  },
  {
   "cell_type": "code",
   "execution_count": null,
   "id": "354afa89-091b-4787-93ba-11d630db3e7d",
   "metadata": {},
   "outputs": [],
   "source": [
    "arr3rd = np.random.rand(3,3)\n",
    "display(arr3rd)"
   ]
  },
  {
   "cell_type": "markdown",
   "id": "c5165a58-83b9-46a5-8f27-a96a5aca2aaf",
   "metadata": {},
   "source": [
    "## Задание 4"
   ]
  },
  {
   "cell_type": "markdown",
   "id": "ea8f6d95-7025-40ce-a981-61c31b2cb765",
   "metadata": {},
   "source": [
    "## Задание 5"
   ]
  },
  {
   "cell_type": "markdown",
   "id": "7bc986ec-dd1b-4925-99a9-8e35c750d44b",
   "metadata": {},
   "source": [
    "## Задание 6"
   ]
  },
  {
   "cell_type": "markdown",
   "id": "555321a3-6597-4db8-8d47-e2ec56340abc",
   "metadata": {},
   "source": [
    "## Задание 7"
   ]
  },
  {
   "cell_type": "markdown",
   "id": "dfeefb91-916f-45a5-bf9c-b7b6682ba2ab",
   "metadata": {},
   "source": [
    "## Задание 8"
   ]
  },
  {
   "cell_type": "markdown",
   "id": "bd739a48-7ef9-49c3-a859-341e860010f2",
   "metadata": {},
   "source": [
    "## Задание 9"
   ]
  },
  {
   "cell_type": "markdown",
   "id": "fdc7cb83-31ba-4e09-afad-c38674fdc235",
   "metadata": {},
   "source": [
    "## Задание 10"
   ]
  }
 ],
 "metadata": {
  "kernelspec": {
   "display_name": "Python 3 (ipykernel)",
   "language": "python",
   "name": "python3"
  },
  "language_info": {
   "codemirror_mode": {
    "name": "ipython",
    "version": 3
   },
   "file_extension": ".py",
   "mimetype": "text/x-python",
   "name": "python",
   "nbconvert_exporter": "python",
   "pygments_lexer": "ipython3",
   "version": "3.12.7"
  }
 },
 "nbformat": 4,
 "nbformat_minor": 5
}
