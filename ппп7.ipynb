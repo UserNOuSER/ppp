{
 "cells": [
  {
   "cell_type": "markdown",
   "id": "0b24259f-5d49-4e90-9683-4e0eea597735",
   "metadata": {},
   "source": [
    "# Лабораторная работа № 7. Объектно-ориентированное программирование в Python"
   ]
  },
  {
   "cell_type": "markdown",
   "id": "60ed4275-92a5-4fd2-aad9-bb7664f2a90d",
   "metadata": {},
   "source": [
    "## Задание 1\n",
    "Создать класс ThreeStates и определить у него один атрибут state и метод hasstate. Атрибут реализовать как приватный. \\\n",
    "В рамках метода реализовать переключение состояний: первое, второе, третье. \\\n",
    "Смена состояния происходит в момент вызова метода hasstate и сопровождается выводом на экран соответствующего сообщения. \\\n",
    "Переключение между состояниями должно осуществляться только в указанном порядке (первое, второе, третье, первое, …). \\\n",
    "Проверить работу примера, создав экземпляр и вызвав описанный метод."
   ]
  },
  {
   "cell_type": "code",
   "execution_count": 2,
   "id": "2b2de148-6cfe-4297-a533-3a29a6c05747",
   "metadata": {},
   "outputs": [
    {
     "name": "stdout",
     "output_type": "stream",
     "text": [
      "3 не валидно, сейчас состояние 1\n",
      "Состояние поменялось на 2\n",
      "1 не валидно, сейчас состояние 2\n"
     ]
    }
   ],
   "source": [
    "class ThreeStates():\n",
    "    __states = (1,2,3)\n",
    "    __state = 1\n",
    "    def __init__(self, state):\n",
    "        self.hasstate(state)\n",
    "    \n",
    "    def hasstate(self, state):\n",
    "        if state in self.__states and (self.__state + 1)%3 == state:\n",
    "            self.__state = state\n",
    "            print(f\"Состояние поменялось на {self.__state}\")\n",
    "        else:\n",
    "            print(f\"{state} не валидно, сейчас состояние {self.__state}\")\n",
    "\n",
    "mkpp = ThreeStates(3)\n",
    "mkpp.hasstate(2)\n",
    "mkpp.hasstate(1)"
   ]
  },
  {
   "cell_type": "markdown",
   "id": "bdf9b217-b167-4bc8-a779-39d96a5e389f",
   "metadata": {},
   "source": [
    "## Задание 2\n",
    "Реализовать класс Volume, в котором определить атрибуты: length (длина), width (ширина) и height (высота). \\\n",
    "Значения данных атрибутов должны передаваться при создании экземпляра класса.\\\n",
    "Атрибуты сделать защищенными. Определить метод расчета, использовав формулу: длина \\* ширина \\* высота. \\\n",
    "Проверить работу метода."
   ]
  },
  {
   "cell_type": "code",
   "execution_count": 26,
   "id": "9fab5416-74e3-4671-bac9-48d6c0c6a587",
   "metadata": {},
   "outputs": [
    {
     "data": {
      "text/plain": [
       "36"
      ]
     },
     "execution_count": 26,
     "metadata": {},
     "output_type": "execute_result"
    }
   ],
   "source": [
    "class Volume:\n",
    "    def __init__(self, lenght, width, height):\n",
    "        self._lenght = lenght\n",
    "        self._width = width\n",
    "        self._height = height\n",
    "\n",
    "    def getvolume(self):\n",
    "        return self._height * self._width * self._lenght\n",
    "\n",
    "fig_1 = Volume(6, 2, 3)\n",
    "fig_1.getvolume()"
   ]
  },
  {
   "cell_type": "markdown",
   "id": "e45e9b56-9b2e-4ac4-abd8-a095922b7bd6",
   "metadata": {},
   "source": [
    "## Задание 3\n",
    "Реализовать базовый класс Employee, в котором определить атрибуты: name, patronymic, surname, salary. \\\n",
    "Последний атрибут должен быть защищенным и ссылаться на словарь, содержащий элементы: жалование и бонус, например, {\"wage\": wage, \"bonus\": bonus}. \\\n",
    "Создать класс Salary на базе класса Employee. В классе Salary реализовать методы получения полного имени сотрудника (get_full_name) и дохода с учетом премии (get_total_income). \\\n",
    "Создать экземпляры класса Salary, передать данные, проверить значения атрибутов, вызвать методы экземпляров."
   ]
  },
  {
   "cell_type": "code",
   "execution_count": 9,
   "id": "12f57a63-a264-4673-a9ba-5143b61832a2",
   "metadata": {
    "scrolled": true
   },
   "outputs": [
    {
     "name": "stdout",
     "output_type": "stream",
     "text": [
      "Алексей\n",
      "Павлович\n",
      "Бакулин\n",
      "{'wage': 20000, 'bonus': 5000}\n",
      "Бакулин Алексей Павлович\n",
      "25000\n"
     ]
    }
   ],
   "source": [
    "class Employee:\n",
    "    def __init__(self, name, patronymic, surname, wage, bonus):\n",
    "        self.name = name\n",
    "        self.patronymic = patronymic\n",
    "        self.surname = surname\n",
    "        self._salary = {'wage': wage, 'bonus': bonus }\n",
    "        \n",
    "class Salary(Employee):\n",
    "    def get_full_name(self):\n",
    "        return f\"{self.surname} {self.name} {self.patronymic}\"\n",
    "    \n",
    "    def get_total_income(self):\n",
    "        return self._salary['wage'] + self._salary['bonus']\n",
    "\n",
    "sal_1 = Salary(\"Алексей\", \"Павлович\", \"Бакулин\", 20000, 5000)\n",
    "\n",
    "print(sal_1.name)\n",
    "print(sal_1.patronymic)\n",
    "print(sal_1.surname)\n",
    "print(sal_1._salary)\n",
    "\n",
    "print(sal_1.get_full_name())\n",
    "print(sal_1.get_total_income())"
   ]
  },
  {
   "cell_type": "markdown",
   "id": "a2d1dc61-0dd7-4623-b563-5a389cb20d45",
   "metadata": {},
   "source": [
    "## Задание 4\n",
    "Реализуйте базовый класс Airplane. У данного класса должны быть следующие атрибуты: speed, color, name, is_jet (булево). \\\n",
    "А также методы: go, stop, direction, которые должны сообщать, что самолет летит, не летит, повернул в полете. \\\n",
    "Опишите несколько дочерних классов самолетов: FastAirplane, Biplane, ArmyAirplane. \\\n",
    "Добавьте в базовый класс метод show_speed, который должен показывать текущую скорость самолета. \\\n",
    "Для дочерних классов переопределите метод show_speed. \\\n",
    "При значении скорости свыше 1300 (FastAirplane) должно выводиться сообщение о сверхзвуковой скорости. \\\n",
    "Создайте экземпляры классов, передайте значения атрибутов.\\\n",
    "Выполните доступ к атрибутам, выведите результат. \\\n",
    "Выполните вызов методов и также покажите результат."
   ]
  },
  {
   "cell_type": "code",
   "execution_count": 15,
   "id": "6ca85619-e86b-4da8-9e0f-79e4679e69c5",
   "metadata": {},
   "outputs": [
    {
     "name": "stdout",
     "output_type": "stream",
     "text": [
      "Самолёт летит\n",
      "Самолет не летит\n",
      "Самолёт повернул\n",
      "\n",
      "Самолёт летит\n",
      "Самолёт повернул\n",
      "Скорость бешеная - 1500 км\\ч\n",
      "Маловато - всего 1000 км\\ч\n",
      "Самолет не летит\n",
      "\n",
      "Самолёт летит\n",
      "Самолёт повернул\n",
      "Ползем на скоростях 15 км\\ч\n",
      "\n",
      "Самолёт летит\n",
      "Самолёт повернул\n",
      "Продвигаемся на территорию врага. \n",
      "Докладываю - скорость 120 км\\ч\n"
     ]
    }
   ],
   "source": [
    "class Airplane:\n",
    "    def __init__(self, speed, color, name, is_jet):\n",
    "        self.speed = speed\n",
    "        self.color = color\n",
    "        self.name = name\n",
    "        self.is_jet = is_jet\n",
    "        \n",
    "    def go(self):\n",
    "        print(\"Самолёт летит\")\n",
    "        if self.speed == 0:\n",
    "            self.speed += 100\n",
    "            \n",
    "    def stop(self):\n",
    "        print(\"Самолет не летит\")\n",
    "        self.speed = 0\n",
    "\n",
    "    def direction(self):\n",
    "        print(\"Самолёт повернул\")\n",
    "        \n",
    "    def show_speed(self):\n",
    "        pass\n",
    "\n",
    "\n",
    "class FastAirplane(Airplane):\n",
    "    def show_speed(self):\n",
    "        if self.speed > 1300:\n",
    "            print(f\"Скорость бешеная - {self.speed} км\\ч\")\n",
    "        else:\n",
    "            print(f\"Маловато - всего {self.speed} км\\ч\")\n",
    "\n",
    "class Biplane(Airplane):\n",
    "    def show_speed(self):\n",
    "        print(f\"Ползем на скоростях {self.speed} км\\ч\")\n",
    "\n",
    "class ArmyAirplane(Airplane):\n",
    "    def show_speed(self):\n",
    "        print(f\"Продвигаемся на территорию врага. \\nДокладываю - скорость {self.speed} км\\ч\")\n",
    "\n",
    "\n",
    "basic_plane = Airplane(0, \"brown\", \"Леха\", True)\n",
    "basic_plane.go()\n",
    "basic_plane.stop()\n",
    "basic_plane.direction()\n",
    "basic_plane.show_speed()\n",
    "print()\n",
    "\n",
    "fast_plane = FastAirplane(1500, \"белый\", \"j7\", True)\n",
    "fast_plane.go()\n",
    "fast_plane.direction()\n",
    "fast_plane.show_speed()\n",
    "fast_plane.speed = 1000\n",
    "fast_plane.show_speed()\n",
    "fast_plane.stop()\n",
    "print()\n",
    "\n",
    "bi_plane = Biplane(15, \"красивый\", \"Сэмюэл Л. Джексон\", True)\n",
    "bi_plane.go()\n",
    "bi_plane.direction()\n",
    "bi_plane.show_speed()\n",
    "print()\n",
    "\n",
    "army_plane = ArmyAirplane(120, \"красивый\", \"Сэмюэл Л. Джексон\", True)\n",
    "army_plane.go()\n",
    "army_plane.direction()\n",
    "army_plane.show_speed()"
   ]
  },
  {
   "cell_type": "markdown",
   "id": "e16f20c6-ab68-4676-9ac1-e6f17bd486ba",
   "metadata": {},
   "source": [
    "## Задание 5\n",
    "Реализовать класс MathOperations. \\\n",
    "Определить в нем атрибуты first_num, second_num и метод calc. \\\n",
    "Метод выводит сообщение “Запуск операции.” \\\n",
    "Создать три дочерних класса my_sum (сложение), my_sub (вычитание), my_mult (умножение). \\\n",
    "В каждом из классов реализовать переопределение метода calc.\\\n",
    "Для каждого из классов метод должен выполнять математическую операцию, соответствующую названию класса. \\\n",
    "Создать экземпляры классов и проверить работу методов."
   ]
  },
  {
   "cell_type": "code",
   "execution_count": 17,
   "id": "7527533d-3693-420e-9017-9e3a12113f90",
   "metadata": {},
   "outputs": [
    {
     "name": "stdout",
     "output_type": "stream",
     "text": [
      "Запускаю вычисления...\n",
      "Результат равен 175844\n",
      "Результат равен 468.5\n",
      "Результат равен 6005556\n"
     ]
    },
    {
     "data": {
      "text/plain": [
       "6005556"
      ]
     },
     "execution_count": 17,
     "metadata": {},
     "output_type": "execute_result"
    }
   ],
   "source": [
    "class MathOperations:\n",
    "    def __init__(self, first_num, second_num):\n",
    "        self.first_num = first_num\n",
    "        self.second_num = second_num\n",
    "        \n",
    "    def calc(self):\n",
    "        print(\"Запускаю вычисления...\")\n",
    "\n",
    "class MySum(MathOperations):\n",
    "    def calc(self):\n",
    "        print(f\"Результат равен {self.first_num + self.second_num}\")\n",
    "        return self.first_num + self.second_num\n",
    "\n",
    "class MySub(MathOperations):\n",
    "    def calc(self):\n",
    "        print(f\"Результат равен {self.first_num / self.second_num}\")\n",
    "        return self.first_num / self.second_num\n",
    "\n",
    "class MyMult(MathOperations):\n",
    "    def calc(self):\n",
    "        print(f\"Результат равен {self.first_num * self.second_num}\")\n",
    "        return self.first_num * self.second_num\n",
    "        \n",
    "base = MathOperations(10, 9)\n",
    "base.calc()\n",
    "\n",
    "summ = MySum(97412, 78432)\n",
    "summ.calc()\n",
    "\n",
    "sub = MySub(1874, 4)\n",
    "sub.calc()\n",
    "\n",
    "mult = MyMult(9813, 612)\n",
    "mult.calc()"
   ]
  }
 ],
 "metadata": {
  "kernelspec": {
   "display_name": "Python 3 (ipykernel)",
   "language": "python",
   "name": "python3"
  },
  "language_info": {
   "codemirror_mode": {
    "name": "ipython",
    "version": 3
   },
   "file_extension": ".py",
   "mimetype": "text/x-python",
   "name": "python",
   "nbconvert_exporter": "python",
   "pygments_lexer": "ipython3",
   "version": "3.12.7"
  }
 },
 "nbformat": 4,
 "nbformat_minor": 5
}
